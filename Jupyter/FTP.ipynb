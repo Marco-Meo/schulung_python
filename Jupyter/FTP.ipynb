{
 "cells": [
  {
   "cell_type": "markdown",
   "metadata": {
    "collapsed": true
   },
   "source": [
    "## Anwendungsbeispiel FTP\n",
    "Verbindung zu FTPS Server und Dateiübermittlung"
   ]
  },
  {
   "cell_type": "markdown",
   "metadata": {},
   "source": [
    "### Variablen setzen und Importe:"
   ]
  },
  {
   "cell_type": "code",
   "execution_count": 32,
   "metadata": {},
   "outputs": [],
   "source": [
    "# Importe\n",
    "import ftplib # https://docs.python.org/3.8/library/ftplib.html\n",
    "import ssl # https://docs.python.org/3.8/library/ssl.html?highlight=ssl#module-ssl\n",
    "from datetime import datetime\n",
    "import os\n",
    "# Variablen\n",
    "server = \"meonet.io\"\n",
    "user = \"schulung\"\n",
    "passwort = \"\"\n",
    "path_in = \"/IN\"\n",
    "path_out = \"/OUT\"\n",
    "testdatei = \"./Testdateien/Testdatei.txt\"\n",
    "import_pfad = \"./Testdateien/From_FTP\""
   ]
  },
  {
   "cell_type": "markdown",
   "metadata": {
    "pycharm": {
     "name": "#%% md\n"
    }
   },
   "source": [
    "### FTP verbinden und Datei schreiben"
   ]
  },
  {
   "cell_type": "code",
   "execution_count": null,
   "outputs": [],
   "source": [
    "ftps = ftplib.FTP_TLS(host=server, user=user, passwd=passwort, timeout=2)\n",
    "ftps.ssl_version = ssl.PROTOCOL_TLS\n",
    "print(ftps.welcome)\n",
    "print(ftps.cwd(path_in))\n",
    "jetzt = datetime.now()\n",
    "dateiname_ziel = \"_\".join([jetzt.strftime(\"%Y%m%d%H%M%S\"), 'Testdatei.txt'])\n",
    "\n",
    "with open(testdatei, 'rb') as upload:\n",
    "    response = ftps.storbinary(f'STOR {dateiname_ziel}', upload)\n",
    "    print(response)\n",
    "\n",
    "ftps.close()"
   ],
   "metadata": {
    "collapsed": false,
    "pycharm": {
     "name": "#%%\n"
    }
   }
  },
  {
   "cell_type": "markdown",
   "source": [
    "### Dateien von Server lesen\n"
   ],
   "metadata": {
    "collapsed": false,
    "pycharm": {
     "name": "#%% md\n"
    }
   }
  },
  {
   "cell_type": "code",
   "execution_count": 41,
   "outputs": [
    {
     "name": "stdout",
     "output_type": "stream",
     "text": [
      "230 User schulung logged in, access restrictions apply.\n",
      "Fehler beim Download der Datei 20201120110542_Testdatei.txt\n"
     ]
    }
   ],
   "source": [
    "with ftplib.FTP_TLS(server) as ftps_1:\n",
    "    # Login\n",
    "    print(ftps_1.login(user, passwort))\n",
    "    # TLS Verschlüsselung aktivieren\n",
    "    ftps_1.ssl_version = ssl.PROTOCOL_TLS_SERVER\n",
    "    # Verzeichnispfad ändern\n",
    "    ftps_1.cwd(path_out)\n",
    "    # Lesen der Dateien und Verzeichnisse\n",
    "    result = ftps_1.mlsd()\n",
    "    # Download pro Datei\n",
    "    for r in result:\n",
    "        if r[1].get('type') == 'file': # Ist es eine Datei?\n",
    "            try:\n",
    "                with open(os.path.join(import_pfad, r[0]), 'wb') as destination:\n",
    "                    ftps_1.retrbinary(f\"RETR {r[0]}\", destination.write)\n",
    "                ftps_1.delete(r[0]) # heruntergeladenen Datei löschen\n",
    "            except Exception as e:\n",
    "                print(f\"Fehler beim Download der Datei {r[0]}\")\n",
    "                continue"
   ],
   "metadata": {
    "collapsed": false,
    "pycharm": {
     "name": "#%%\n"
    }
   }
  }
 ],
 "metadata": {
  "kernelspec": {
   "display_name": "Python 3",
   "language": "python",
   "name": "python3"
  },
  "language_info": {
   "codemirror_mode": {
    "name": "ipython",
    "version": 3
   },
   "file_extension": ".py",
   "mimetype": "text/x-python",
   "name": "python",
   "nbconvert_exporter": "python",
   "pygments_lexer": "ipython3",
   "version": "3.8.3"
  }
 },
 "nbformat": 4,
 "nbformat_minor": 1
}