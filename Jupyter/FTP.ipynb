{
 "cells": [
  {
   "cell_type": "markdown",
   "metadata": {
    "collapsed": true
   },
   "source": [
    "## Anwendungsbeispiel FTP\n",
    "Verbindung zu FTPS Server und Dateiübermittlung"
   ]
  },
  {
   "cell_type": "markdown",
   "metadata": {},
   "source": [
    "### Variablen setzen und Importe:"
   ]
  },
  {
   "cell_type": "code",
   "execution_count": 32,
   "metadata": {},
   "outputs": [],
   "source": [
    "# Importe\n",
    "import ftplib # https://docs.python.org/3.8/library/ftplib.html\n",
    "import ssl # https://docs.python.org/3.8/library/ssl.html?highlight=ssl#module-ssl\n",
    "from datetime import datetime\n",
    "import os\n",
    "# Variablen\n",
    "server = \"meonet.io\"\n",
    "user = \"schulung\"\n",
    "passwort = \"\"\n",
    "path_in = \"/IN\"\n",
    "path_out = \"/OUT\"\n",
    "testdatei = \"./Testdateien/Testdatei.txt\"\n",
    "import_pfad = \"./Testdateien/From_FTP\""
   ]
  },
  {
   "cell_type": "markdown",
   "metadata": {
    "pycharm": {
     "name": "#%% md\n"
    }
   },
   "source": [
    "### FTP verbinden und Datei schreiben"
   ]
  },
  {
   "cell_type": "code",
   "execution_count": null,
   "metadata": {
    "pycharm": {
     "name": "#%%\n"
    }
   },
   "outputs": [],
   "source": [
    "ftps = ftplib.FTP_TLS(host=server, user=user, passwd=passwort, timeout=2)\n",
    "ftps.ssl_version = ssl.PROTOCOL_TLS\n",
    "print(ftps.welcome)\n",
    "print(ftps.cwd(path_in))\n",
    "jetzt = datetime.now()\n",
    "dateiname_ziel = \"_\".join([jetzt.strftime(\"%Y%m%d%H%M%S\"), 'Testdatei.txt'])\n",
    "\n",
    "with open(testdatei, 'rb') as upload:\n",
    "    response = ftps.storbinary(f'STOR {dateiname_ziel}', upload)\n",
    "    print(response)\n",
    "\n",
    "ftps.close()"
   ]
  },
  {
   "cell_type": "markdown",
   "metadata": {
    "pycharm": {
     "name": "#%% md\n"
    }
   },
   "source": [
    "### Dateien von Server lesen\n"
   ]
  },
  {
   "cell_type": "code",
   "execution_count": 1,
   "metadata": {
    "pycharm": {
     "name": "#%%\n"
    }
   },
   "outputs": [
    {
     "ename": "NameError",
     "evalue": "name 'ftplib' is not defined",
     "output_type": "error",
     "traceback": [
      "\u001b[0;31m---------------------------------------------------------------------------\u001b[0m",
      "\u001b[0;31mNameError\u001b[0m                                 Traceback (most recent call last)",
      "\u001b[0;32m<ipython-input-1-b9e326de96f1>\u001b[0m in \u001b[0;36m<module>\u001b[0;34m\u001b[0m\n\u001b[0;32m----> 1\u001b[0;31m \u001b[0;32mwith\u001b[0m \u001b[0mftplib\u001b[0m\u001b[0;34m.\u001b[0m\u001b[0mFTP_TLS\u001b[0m\u001b[0;34m(\u001b[0m\u001b[0mserver\u001b[0m\u001b[0;34m)\u001b[0m \u001b[0;32mas\u001b[0m \u001b[0mftps_1\u001b[0m\u001b[0;34m:\u001b[0m\u001b[0;34m\u001b[0m\u001b[0;34m\u001b[0m\u001b[0m\n\u001b[0m\u001b[1;32m      2\u001b[0m     \u001b[0;31m# Login\u001b[0m\u001b[0;34m\u001b[0m\u001b[0;34m\u001b[0m\u001b[0;34m\u001b[0m\u001b[0m\n\u001b[1;32m      3\u001b[0m     \u001b[0mprint\u001b[0m\u001b[0;34m(\u001b[0m\u001b[0mftps_1\u001b[0m\u001b[0;34m.\u001b[0m\u001b[0mlogin\u001b[0m\u001b[0;34m(\u001b[0m\u001b[0muser\u001b[0m\u001b[0;34m,\u001b[0m \u001b[0mpasswort\u001b[0m\u001b[0;34m)\u001b[0m\u001b[0;34m)\u001b[0m\u001b[0;34m\u001b[0m\u001b[0;34m\u001b[0m\u001b[0m\n\u001b[1;32m      4\u001b[0m     \u001b[0;31m# TLS Verschlüsselung aktivieren\u001b[0m\u001b[0;34m\u001b[0m\u001b[0;34m\u001b[0m\u001b[0;34m\u001b[0m\u001b[0m\n\u001b[1;32m      5\u001b[0m     \u001b[0mftps_1\u001b[0m\u001b[0;34m.\u001b[0m\u001b[0mssl_version\u001b[0m \u001b[0;34m=\u001b[0m \u001b[0mssl\u001b[0m\u001b[0;34m.\u001b[0m\u001b[0mPROTOCOL_TLS_SERVER\u001b[0m\u001b[0;34m\u001b[0m\u001b[0;34m\u001b[0m\u001b[0m\n",
      "\u001b[0;31mNameError\u001b[0m: name 'ftplib' is not defined"
     ]
    }
   ],
   "source": [
    "with ftplib.FTP_TLS(server) as ftps_1:\n",
    "    # Login\n",
    "    print(ftps_1.login(user, passwort))\n",
    "    # TLS Verschlüsselung aktivieren\n",
    "    ftps_1.ssl_version = ssl.PROTOCOL_TLS_SERVER\n",
    "    # Verzeichnispfad ändern\n",
    "    ftps_1.cwd(path_out)\n",
    "    # Lesen der Dateien und Verzeichnisse\n",
    "    result = ftps_1.mlsd()\n",
    "    # Download pro Datei\n",
    "    for r in result:\n",
    "        if r[1].get('type') == 'file': # Ist es eine Datei?\n",
    "            try:\n",
    "                with open(os.path.join(import_pfad, r[0]), 'wb') as destination:\n",
    "                    ftps_1.retrbinary(f\"RETR {r[0]}\", destination.write)\n",
    "                ftps_1.delete(r[0]) # heruntergeladenen Datei löschen\n",
    "            except Exception as e:\n",
    "                print(f\"Fehler beim Download der Datei {r[0]}\")\n",
    "                continue"
   ]
  },
  {
   "cell_type": "code",
   "execution_count": 2,
   "metadata": {},
   "outputs": [
    {
     "name": "stdout",
     "output_type": "stream",
     "text": [
      "Hallo\n"
     ]
    }
   ],
   "source": []
  }
 ],
 "metadata": {
  "kernelspec": {
   "display_name": "Python 3",
   "language": "python",
   "name": "python3"
  },
  "language_info": {
   "codemirror_mode": {
    "name": "ipython",
    "version": 3
   },
   "file_extension": ".py",
   "mimetype": "text/x-python",
   "name": "python",
   "nbconvert_exporter": "python",
   "pygments_lexer": "ipython3",
   "version": "3.8.3"
  },
  "toc": {
   "base_numbering": 1,
   "nav_menu": {},
   "number_sections": true,
   "sideBar": true,
   "skip_h1_title": false,
   "title_cell": "Table of Contents",
   "title_sidebar": "Contents",
   "toc_cell": false,
   "toc_position": {},
   "toc_section_display": true,
   "toc_window_display": true
  }
 },
 "nbformat": 4,
 "nbformat_minor": 1
}
