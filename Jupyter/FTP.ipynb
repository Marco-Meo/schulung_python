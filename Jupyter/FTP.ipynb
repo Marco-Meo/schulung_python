{
 "cells": [
  {
   "cell_type": "markdown",
   "metadata": {
    "collapsed": true
   },
   "source": [
    "## Anwendungsbeispiel FTP\n",
    "Verbindung zu FTPS Server und Dateiübermittlung"
   ]
  },
  {
   "cell_type": "markdown",
   "metadata": {},
   "source": [
    "### Variablen setzen und Importe:"
   ]
  },
  {
   "cell_type": "code",
   "execution_count": null,
   "metadata": {},
   "outputs": [],
   "source": []
  },
  {
   "cell_type": "code",
   "execution_count": 3,
   "metadata": {
    "pycharm": {
     "name": "#%%\n"
    }
   },
   "outputs": [],
   "source": [
    "# Importe\n",
    "import ftplib # https://docs.python.org/3.8/library/ftplib.html\n",
    "import ssl # https://docs.python.org/3.8/library/ssl.html?highlight=ssl#module-ssl\n",
    "from datetime import datetime\n",
    "import os\n",
    "\n",
    "# Variablen\n",
    "server = \"meonet.io\"\n",
    "user = \"schulung\"\n",
    "passwort = \"ilovepython!\"\n",
    "path_in = \"/IN\"\n",
    "path_out = \"/OUT\"\n",
    "testdatei = \"./Testdateien/Testdatei.txt\"\n",
    "import_pfad = \"./Testdateien/From_FTP\""
   ]
  },
  {
   "cell_type": "code",
   "execution_count": 10,
   "metadata": {},
   "outputs": [
    {
     "name": "stdout",
     "output_type": "stream",
     "text": [
      "FTP.ipynb               mailing.ipynb           weather_interface.ipynb\r\n",
      "\u001B[34mTestdateien\u001B[m\u001B[m             readme.md\r\n",
      "Untitled.ipynb          timeseries.ipynb\r\n"
     ]
    }
   ],
   "source": [
    "!ls"
   ]
  },
  {
   "cell_type": "markdown",
   "metadata": {
    "pycharm": {
     "name": "#%% md\n"
    }
   },
   "source": [
    "### FTP verbinden und Datei schreiben"
   ]
  },
  {
   "cell_type": "code",
   "execution_count": 9,
   "metadata": {
    "pycharm": {
     "name": "#%%\n"
    }
   },
   "outputs": [
    {
     "name": "stdout",
     "output_type": "stream",
     "text": [
      "220 meonet-cloud FTP server ready.\n",
      "250 CWD command successful.\n",
      "226 Transfer complete.\n"
     ]
    }
   ],
   "source": [
    "ftps = ftplib.FTP_TLS(host=server, user=user, passwd=passwort, timeout=4)\n",
    "ftps.ssl_version = ssl.PROTOCOL_TLS\n",
    "print(ftps.welcome)\n",
    "print(ftps.cwd(path_in))\n",
    "jetzt = datetime.now()\n",
    "dateiname_ziel = \"_\".join([jetzt.strftime(\"%Y%m%d%H%M%S\"), 'Testdatei.txt'])\n",
    "\n",
    "with open(testdatei, 'rb') as upload:\n",
    "    response = ftps.storbinary(f'STOR {dateiname_ziel}', upload)\n",
    "    print(response)\n",
    "\n",
    "ftps.close()"
   ]
  },
  {
   "cell_type": "markdown",
   "source": [
    "### Dateien von Server lesen\n"
   ],
   "metadata": {
    "collapsed": false
   }
  },
  {
   "cell_type": "code",
   "execution_count": null,
   "outputs": [],
   "source": [
    "with ftplib.FTP_TLS(server) as ftps_1:\n",
    "    # Login\n",
    "    print(ftps_1.login(user, passwort))\n",
    "    # TLS Verschlüsselung aktivieren\n",
    "    ftps_1.ssl_version = ssl.PROTOCOL_TLS_SERVER\n",
    "    # Verzeichnispfad ändern\n",
    "    ftps_1.cwd(path_out)\n",
    "    # Lesen der Dateien und Verzeichnisse\n",
    "    result = ftps_1.mlsd()\n",
    "    # Download pro Datei\n",
    "    for r in result:\n",
    "        if r[1].get('type') == 'file': # Ist es eine Datei?\n",
    "            try:\n",
    "                with open(os.path.join(import_pfad, r[0]), 'wb') as destination:\n",
    "                    ftps_1.retrbinary(f\"RETR {r[0]}\", destination.write)\n",
    "                ftps_1.delete(r[0]) # heruntergeladenen Datei löschen\n",
    "            except Exception as e:\n",
    "                print(f\"Fehler beim Download der Datei {r[0]}\")\n",
    "                continue\n",
    "    "
   ],
   "metadata": {
    "collapsed": false,
    "pycharm": {
     "name": "#%%\n"
    }
   }
  },
  {
   "cell_type": "markdown",
   "source": [],
   "metadata": {
    "collapsed": false
   }
  },
  {
   "cell_type": "code",
   "execution_count": null,
   "outputs": [],
   "source": [
    "with ftplib.FTP_TLS(server) as ftps_1:\n",
    "    # Login\n",
    "    print(ftps_1.login(user, passwort))\n",
    "    # TLS Verschlüsselung aktivieren\n",
    "    ftps_1.ssl_version = ssl.PROTOCOL_TLS_SERVER\n",
    "    # Verzeichnispfad ändern\n",
    "    ftps_1.cwd(path_out)\n",
    "    # Lesen der Dateien und Verzeichnisse\n",
    "    result = ftps_1.mlsd()\n",
    "    # Download pro Datei\n",
    "    for r in result:\n",
    "        if r[1].get('type') == 'file': # Ist es eine Datei?\n",
    "            try:\n",
    "                with open(os.path.join(import_pfad, r[0]), 'wb') as destination:\n",
    "                    ftps_1.retrbinary(f\"RETR {r[0]}\", destination.write)\n",
    "                ftps_1.delete(r[0]) # heruntergeladenen Datei löschen\n",
    "            except Exception as e:\n",
    "                print(f\"Fehler beim Download der Datei {r[0]}\")\n",
    "                continue\n",
    "    "
   ],
   "metadata": {
    "collapsed": false,
    "pycharm": {
     "name": "#%%\n"
    }
   }
  },
  {
   "cell_type": "markdown",
   "source": [],
   "metadata": {
    "collapsed": false
   }
  },
  {
   "cell_type": "code",
   "execution_count": null,
   "outputs": [],
   "source": [
    "with ftplib.FTP_TLS(server) as ftps_1:\n",
    "    # Login\n",
    "    print(ftps_1.login(user, passwort))\n",
    "    # TLS Verschlüsselung aktivieren\n",
    "    ftps_1.ssl_version = ssl.PROTOCOL_TLS_SERVER\n",
    "    # Verzeichnispfad ändern\n",
    "    ftps_1.cwd(path_out)\n",
    "    # Lesen der Dateien und Verzeichnisse\n",
    "    result = ftps_1.mlsd()\n",
    "    # Download pro Datei\n",
    "    for r in result:\n",
    "        if r[1].get('type') == 'file': # Ist es eine Datei?\n",
    "            try:\n",
    "                with open(os.path.join(import_pfad, r[0]), 'wb') as destination:\n",
    "                    ftps_1.retrbinary(f\"RETR {r[0]}\", destination.write)\n",
    "                ftps_1.delete(r[0]) # heruntergeladenen Datei löschen\n",
    "            except Exception as e:\n",
    "                print(f\"Fehler beim Download der Datei {r[0]}\")\n",
    "                continue\n",
    "    "
   ],
   "metadata": {
    "collapsed": false,
    "pycharm": {
     "name": "#%%\n"
    }
   }
  },
  {
   "cell_type": "markdown",
   "source": [],
   "metadata": {
    "collapsed": false
   }
  },
  {
   "cell_type": "code",
   "execution_count": null,
   "outputs": [],
   "source": [
    "with ftplib.FTP_TLS(server) as ftps_1:\n",
    "    # Login\n",
    "    print(ftps_1.login(user, passwort))\n",
    "    # TLS Verschlüsselung aktivieren\n",
    "    ftps_1.ssl_version = ssl.PROTOCOL_TLS_SERVER\n",
    "    # Verzeichnispfad ändern\n",
    "    ftps_1.cwd(path_out)\n",
    "    # Lesen der Dateien und Verzeichnisse\n",
    "    result = ftps_1.mlsd()\n",
    "    # Download pro Datei\n",
    "    for r in result:\n",
    "        if r[1].get('type') == 'file': # Ist es eine Datei?\n",
    "            try:\n",
    "                with open(os.path.join(import_pfad, r[0]), 'wb') as destination:\n",
    "                    ftps_1.retrbinary(f\"RETR {r[0]}\", destination.write)\n",
    "                ftps_1.delete(r[0]) # heruntergeladenen Datei löschen\n",
    "            except Exception as e:\n",
    "                print(f\"Fehler beim Download der Datei {r[0]}\")\n",
    "                continue\n",
    "    "
   ],
   "metadata": {
    "collapsed": false,
    "pycharm": {
     "name": "#%%\n"
    }
   }
  },
  {
   "cell_type": "markdown",
   "source": [],
   "metadata": {
    "collapsed": false
   }
  },
  {
   "cell_type": "code",
   "execution_count": 4,
   "outputs": [
    {
     "name": "stdout",
     "output_type": "stream",
     "text": [
      "230 User schulung logged in, access restrictions apply.\n"
     ]
    }
   ],
   "source": [
    "with ftplib.FTP_TLS(server) as ftps_1:\n",
    "    # Login\n",
    "    print(ftps_1.login(user, passwort))\n",
    "    # TLS Verschlüsselung aktivieren\n",
    "    ftps_1.ssl_version = ssl.PROTOCOL_TLS_SERVER\n",
    "    # Verzeichnispfad ändern\n",
    "    ftps_1.cwd(path_out)\n",
    "    # Lesen der Dateien und Verzeichnisse\n",
    "    result = ftps_1.mlsd()\n",
    "    # Download pro Datei\n",
    "    for r in result:\n",
    "        if r[1].get('type') == 'file': # Ist es eine Datei?\n",
    "            try:\n",
    "                with open(os.path.join(import_pfad, r[0]), 'wb') as destination:\n",
    "                    ftps_1.retrbinary(f\"RETR {r[0]}\", destination.write)\n",
    "                ftps_1.delete(r[0]) # heruntergeladenen Datei löschen\n",
    "            except Exception as e:\n",
    "                print(f\"Fehler beim Download der Datei {r[0]}\")\n",
    "                continue\n",
    "    "
   ],
   "metadata": {
    "collapsed": false,
    "pycharm": {
     "name": "#%%\n"
    }
   }
  },
  {
   "cell_type": "markdown",
   "metadata": {
    "pycharm": {
     "name": "#%% md\n"
    }
   },
   "source": []
  },
  {
   "cell_type": "code",
   "execution_count": 16,
   "metadata": {
    "pycharm": {
     "name": "#%%\n"
    }
   },
   "outputs": [
    {
     "name": "stdout",
     "output_type": "stream",
     "text": [
      "230 User schulung logged in, access restrictions apply.\n"
     ]
    },
    {
     "ename": "FileNotFoundError",
     "evalue": "[Errno 2] No such file or directory: './Testdateien/From_FTP/'",
     "output_type": "error",
     "traceback": [
      "\u001B[0;31m---------------------------------------------------------------------------\u001B[0m",
      "\u001B[0;31mFileNotFoundError\u001B[0m                         Traceback (most recent call last)",
      "\u001B[0;32m<ipython-input-16-792d88b9b1b2>\u001B[0m in \u001B[0;36m<module>\u001B[0;34m\u001B[0m\n\u001B[1;32m     19\u001B[0m                 \u001B[0;32mcontinue\u001B[0m\u001B[0;34m\u001B[0m\u001B[0;34m\u001B[0m\u001B[0m\n\u001B[1;32m     20\u001B[0m \u001B[0;34m\u001B[0m\u001B[0m\n\u001B[0;32m---> 21\u001B[0;31m     \u001B[0mprint\u001B[0m\u001B[0;34m(\u001B[0m\u001B[0mos\u001B[0m\u001B[0;34m.\u001B[0m\u001B[0mscandir\u001B[0m\u001B[0;34m(\u001B[0m\u001B[0;34m'./Testdateien/From_FTP/'\u001B[0m\u001B[0;34m)\u001B[0m\u001B[0;34m)\u001B[0m\u001B[0;34m\u001B[0m\u001B[0;34m\u001B[0m\u001B[0m\n\u001B[0m",
      "\u001B[0;31mFileNotFoundError\u001B[0m: [Errno 2] No such file or directory: './Testdateien/From_FTP/'"
     ]
    }
   ],
   "source": [
    "with ftplib.FTP_TLS(server) as ftps_1:\n",
    "    # Login\n",
    "    print(ftps_1.login(user, passwort))\n",
    "    # TLS Verschlüsselung aktivieren\n",
    "    ftps_1.ssl_version = ssl.PROTOCOL_TLS_SERVER\n",
    "    # Verzeichnispfad ändern\n",
    "    ftps_1.cwd(path_out)\n",
    "    # Lesen der Dateien und Verzeichnisse\n",
    "    result = ftps_1.mlsd()\n",
    "    # Download pro Datei\n",
    "    for r in result:\n",
    "        if r[1].get('type') == 'file': # Ist es eine Datei?\n",
    "            try:\n",
    "                with open(os.path.join(import_pfad, r[0]), 'wb') as destination:\n",
    "                    ftps_1.retrbinary(f\"RETR {r[0]}\", destination.write)\n",
    "                ftps_1.delete(r[0]) # heruntergeladenen Datei löschen\n",
    "            except Exception as e:\n",
    "                print(f\"Fehler beim Download der Datei {r[0]}\")\n",
    "                continue\n",
    "    "
   ]
  },
  {
   "cell_type": "code",
   "execution_count": 2,
   "metadata": {},
   "outputs": [
    {
     "name": "stdout",
     "output_type": "stream",
     "text": [
      "Hallo\n"
     ]
    }
   ],
   "source": []
  }
 ],
 "metadata": {
  "kernelspec": {
   "display_name": "Python 3",
   "language": "python",
   "name": "python3"
  },
  "language_info": {
   "codemirror_mode": {
    "name": "ipython",
    "version": 3
   },
   "file_extension": ".py",
   "mimetype": "text/x-python",
   "name": "python",
   "nbconvert_exporter": "python",
   "pygments_lexer": "ipython3",
   "version": "3.8.3"
  },
  "toc": {
   "base_numbering": 1,
   "nav_menu": {},
   "number_sections": true,
   "sideBar": true,
   "skip_h1_title": false,
   "title_cell": "Table of Contents",
   "title_sidebar": "Contents",
   "toc_cell": false,
   "toc_position": {},
   "toc_section_display": true,
   "toc_window_display": true
  }
 },
 "nbformat": 4,
 "nbformat_minor": 1
}