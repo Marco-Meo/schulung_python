{
 "cells": [
  {
   "cell_type": "markdown",
   "metadata": {},
   "source": [
    "## Beschreibung\n",
    "https://developer.srgssr.ch/apis\n",
    "The SRG-SSR Weather REST API allows you to get weather forecasts and reports from more than 25.000 locations across Switzerland.\n",
    "\n",
    "After providing the decimal latitude and longitude parameters of the chosen location, the API sends a response that contains a JSON object with the weather forecast of the location for the chosen time period (current, hourly, daily, weekly).\n",
    "\n",
    "Example value:\n",
    "\n",
    "Zürich latitude: 47.36667\n",
    "Zürich longitude: 8.5"
   ]
  },
  {
   "cell_type": "code",
   "execution_count": 37,
   "metadata": {},
   "outputs": [
    {
     "name": "stdout",
     "output_type": "stream",
     "text": [
      "Termparatur für 2020-11-19T16:00:00+0100 Wert 7.8°C\n"
     ]
    }
   ],
   "source": [
    "import http.client\n",
    "import json\n",
    "\n",
    "conn = http.client.HTTPSConnection(\"api.srgssr.ch\")\n",
    "\n",
    "headers ={\"Authorization\": \"key\",  \"Authorization\": \"Bearer key\"}\n",
    "\n",
    "conn.request(\"GET\",\"/forecasts/v1.0/weather/nexthour?latitude=47.424647&longitude=9.375815\", '', headers=payload)\n",
    "\n",
    "res = conn.getresponse()\n",
    "data = res.read()\n",
    "data_json = json.loads(data.decode(\"utf-8\"))\n",
    "#print(data_json)\n",
    "print(f\"Termparatur für {data_json['nexthour'][0]['date']} Wert {data_json['nexthour'][0]['values'][1]['ttt']}°C\")\n",
    "#print(data.decode(\"utf-8\"))"
   ]
  },
  {
   "cell_type": "code",
   "execution_count": 67,
   "metadata": {},
   "outputs": [
    {
     "name": "stdout",
     "output_type": "stream",
     "text": [
      "Ort: St. Gallen\n",
      "19.11.20 01:00 8.1 °C\n",
      "19.11.20 04:00 8.1 °C\n",
      "19.11.20 07:00 9.2 °C\n",
      "19.11.20 10:00 10.2 °C\n",
      "19.11.20 13:00 8.5 °C\n",
      "19.11.20 16:00 7.8 °C\n",
      "19.11.20 19:00 5.7 °C\n",
      "19.11.20 22:00 4.7 °C\n"
     ]
    }
   ],
   "source": [
    "# Importe\n",
    "import http.client\n",
    "import json\n",
    "import datetime\n",
    "# Schnittsetllen Konfiguration\n",
    "conn = http.client.HTTPSConnection(\"api.srgssr.ch\")\n",
    "headers ={\"Authorization\": \"key\",  \"Authorization\": \"Bearer key\"}\n",
    "conn.request(\"GET\",\"/forecasts/v1.0/weather/24hour?latitude=47.424647&longitude=9.375815\", '', headers=payload)\n",
    "\n",
    "# Schnittstelle abfragen\n",
    "res = conn.getresponse()\n",
    "data = res.read()\n",
    "data_json = json.loads(data.decode(\"utf-8\"))\n",
    "\n",
    "# Daten Ausgabe\n",
    "print(f\"Ort: {data_json.get('info').get('name').get('de')}\")\n",
    "values = data_json.get('24hours')\n",
    "# Ausgabe der Werte \n",
    "for v in values:\n",
    "    # Formatierung Datum\n",
    "    formatted_date = datetime.datetime.strptime(v.get('date'), \"%Y-%m-%dT%H:%M:%S%z\")\n",
    "    print(f\"{formatted_date.strftime('%d.%m.%y %H:%M')} {v.get('values')[1]['ttt']} °C\")"
   ]
  },
  {
   "cell_type": "code",
   "execution_count": null,
   "metadata": {},
   "outputs": [],
   "source": []
  }
 ],
 "metadata": {
  "kernelspec": {
   "display_name": "Python 3",
   "language": "python",
   "name": "python3"
  },
  "language_info": {
   "codemirror_mode": {
    "name": "ipython",
    "version": 3
   },
   "file_extension": ".py",
   "mimetype": "text/x-python",
   "name": "python",
   "nbconvert_exporter": "python",
   "pygments_lexer": "ipython3",
   "version": "3.8.3"
  }
 },
 "nbformat": 4,
 "nbformat_minor": 2
}